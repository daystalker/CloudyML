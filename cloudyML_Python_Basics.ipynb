{
  "nbformat": 4,
  "nbformat_minor": 0,
  "metadata": {
    "kernelspec": {
      "display_name": "Python 3",
      "language": "python",
      "name": "python3"
    },
    "language_info": {
      "codemirror_mode": {
        "name": "ipython",
        "version": 3
      },
      "file_extension": ".py",
      "mimetype": "text/x-python",
      "name": "python",
      "nbconvert_exporter": "python",
      "pygments_lexer": "ipython3",
      "version": "3.7.6"
    },
    "colab": {
      "name": "cloudyML_Python_Basics_saibharadwaj.ipynb",
      "provenance": [],
      "collapsed_sections": [],
      "include_colab_link": true
    }
  },
  "cells": [
    {
      "cell_type": "markdown",
      "metadata": {
        "id": "view-in-github",
        "colab_type": "text"
      },
      "source": [
        "<a href=\"https://colab.research.google.com/github/daystalker/CloudyML/blob/main/cloudyML_Python_Basics.ipynb\" target=\"_parent\"><img src=\"https://colab.research.google.com/assets/colab-badge.svg\" alt=\"Open In Colab\"/></a>"
      ]
    },
    {
      "cell_type": "markdown",
      "metadata": {
        "id": "UTOA3G_rR23R"
      },
      "source": [
        "# <center><u> Python basics</u></center>\n",
        "![image.png](attachment:image.png)"
      ]
    },
    {
      "cell_type": "markdown",
      "metadata": {
        "id": "uI0ZG5IER23V"
      },
      "source": [
        "Python is emerging as the popular language used more in data science applications.\n",
        "\n",
        "Take the case of the tech giant Google that has created the deep learning framework called tensorflow – Python is the primary language used for creating this framework. Its footprint has continued to increase in the environment promoted by Netflix. Production engineers at Facebook and Khan Academy have for long been using it as a prominent language in their environment.\n",
        "\n",
        "Python became the most popular language in the data science world.\n",
        "So what are you waiting for? Lets start learning python basic as your first assignment.\n",
        "\n",
        "What is Programming? - https://youtu.be/_37dfufl8A8\n",
        "\n",
        "introduction to python - https://youtu.be/HHvLOiUCPFg\n",
        "\n",
        "run your 1st python code - https://youtu.be/ZNCcgP3dupA\n",
        "\n",
        "\n",
        "\n",
        "\n",
        "## Variable declaration"
      ]
    },
    {
      "cell_type": "markdown",
      "metadata": {
        "id": "6heKE6RbR23Y"
      },
      "source": [
        "Covers the topic of variable declaration and type of variables\n",
        "\n",
        "reference:- https://youtu.be/HNbtB6ngVW4\n",
        " \n",
        "\n",
        "<p style='text-align: right;'> 1+1+1+1+1 = 5 points</p>\n"
      ]
    },
    {
      "cell_type": "code",
      "metadata": {
        "id": "NL7clXJNR23Z"
      },
      "source": [
        "# declare two variables, a = 5, b = 'city'\n",
        "a = 5 # your code here\n",
        "b = 'city' # your code here"
      ],
      "execution_count": null,
      "outputs": []
    },
    {
      "cell_type": "code",
      "metadata": {
        "id": "EDvy9uRlR23b",
        "colab": {
          "base_uri": "https://localhost:8080/"
        },
        "outputId": "2d5a8d34-caba-4903-fb8a-cd85024553cb"
      },
      "source": [
        "# print type of a\n",
        "type(a)"
      ],
      "execution_count": null,
      "outputs": [
        {
          "output_type": "execute_result",
          "data": {
            "text/plain": [
              "5"
            ]
          },
          "metadata": {},
          "execution_count": 4
        }
      ]
    },
    {
      "cell_type": "code",
      "metadata": {
        "id": "1RPjvyBqR23d",
        "colab": {
          "base_uri": "https://localhost:8080/"
        },
        "outputId": "a4fbb0b1-f81e-4327-e55b-bbe562f32954"
      },
      "source": [
        "# print type of b\n",
        "type(b)"
      ],
      "execution_count": null,
      "outputs": [
        {
          "output_type": "execute_result",
          "data": {
            "text/plain": [
              "str"
            ]
          },
          "metadata": {},
          "execution_count": 5
        }
      ]
    },
    {
      "cell_type": "code",
      "metadata": {
        "id": "rraz29DaR23e"
      },
      "source": [
        "# swap the values of a and b\n",
        "a,b=b,a"
      ],
      "execution_count": null,
      "outputs": []
    },
    {
      "cell_type": "code",
      "metadata": {
        "id": "J66kB552R23e",
        "colab": {
          "base_uri": "https://localhost:8080/"
        },
        "outputId": "e479208d-3603-45f4-b3c3-e6f58c408bca"
      },
      "source": [
        "# run this to confirm \n",
        "a,b"
      ],
      "execution_count": null,
      "outputs": [
        {
          "output_type": "execute_result",
          "data": {
            "text/plain": [
              "('city', 5)"
            ]
          },
          "metadata": {},
          "execution_count": 11
        }
      ]
    },
    {
      "cell_type": "markdown",
      "metadata": {
        "id": "ZNnnpWIHR23f"
      },
      "source": [
        "Cool! so variable declaration and getting it's type was easy."
      ]
    },
    {
      "cell_type": "markdown",
      "metadata": {
        "id": "ysPf1O7ZR23g"
      },
      "source": [
        "## Arithmetic Operations"
      ]
    },
    {
      "cell_type": "markdown",
      "metadata": {
        "id": "O8wvpqyER23h"
      },
      "source": [
        "Hey novice! this will be easy for you until you know basic arithmetic symbols like +, -, /, * etc.\n",
        "\n",
        "reference:- https://youtu.be/85x40RHdomg\n",
        "\n",
        "<p style='text-align: right;'> 1 + 7 = 8 points </p>\n"
      ]
    },
    {
      "cell_type": "code",
      "metadata": {
        "id": "QgY3JT4rR23h",
        "colab": {
          "base_uri": "https://localhost:8080/"
        },
        "outputId": "a6255c44-1dc6-446c-98af-7f2492dccd6f"
      },
      "source": [
        "# declare two variables, a = 24, b = 3\n",
        "\n",
        "a = 24 # your code here\n",
        "b = 3 # your code here\n",
        "print('a = {}, b = {}'.format(a,b))"
      ],
      "execution_count": null,
      "outputs": [
        {
          "output_type": "stream",
          "name": "stdout",
          "text": [
            "a = 24, b = 3\n"
          ]
        }
      ]
    },
    {
      "cell_type": "code",
      "metadata": {
        "id": "pTLzTf0yR23i",
        "colab": {
          "base_uri": "https://localhost:8080/"
        },
        "outputId": "ca9ee0f7-b271-47c0-8aaa-7365072658f5"
      },
      "source": [
        "# calculate and print all the possible numerical operations on a and b (There are total 7 operations)\n",
        "print('a + b =',a + b )\n",
        "print('a - b =',a - b)\n",
        "print('a * b =',a * b)\n",
        "print('a / b =',a / b)\n",
        "print('a % b =',a % b)\n",
        "print('a // b =',a // b)\n",
        "print('a ^ b =',a ^ b)\n"
      ],
      "execution_count": null,
      "outputs": [
        {
          "output_type": "stream",
          "name": "stdout",
          "text": [
            "a + b = 27\n",
            "a - b = 21\n",
            "a * b = 72\n",
            "a / b = 8.0\n",
            "a % b = 0\n",
            "a // b = 8\n",
            "a ^ b = 27\n"
          ]
        }
      ]
    },
    {
      "cell_type": "markdown",
      "metadata": {
        "id": "FbMvtbumR23j"
      },
      "source": [
        "## Math Functions"
      ]
    },
    {
      "cell_type": "markdown",
      "metadata": {
        "id": "0vlP08yGR23j"
      },
      "source": [
        "Lets do some simple mathematical operations by using math module. Math module contains various mathematical functions. So here we go!\n",
        "\n",
        "Reference:- https://youtu.be/gktjNyV0xks\n",
        "\n",
        "Reference document: https://docs.python.org/3/library/math.html\n",
        "<p style='text-align: right;'> 10 points </p>\n",
        "\n",
        "\n"
      ]
    },
    {
      "cell_type": "code",
      "metadata": {
        "id": "9C2s-4fxR23k"
      },
      "source": [
        "#import math\n",
        "import math"
      ],
      "execution_count": 2,
      "outputs": []
    },
    {
      "cell_type": "code",
      "metadata": {
        "id": "rxVtPUgAR23l"
      },
      "source": [
        "# declare a variable x = 2 and y=5.32167\n",
        "x = 2\n",
        "y=5.32167"
      ],
      "execution_count": 4,
      "outputs": []
    },
    {
      "cell_type": "code",
      "metadata": {
        "id": "n6D4t5HZR23m",
        "colab": {
          "base_uri": "https://localhost:8080/"
        },
        "outputId": "9918c017-742a-40a9-f102-fe25e5962875"
      },
      "source": [
        "# Print the maximum value between x and y\n",
        "print(x if x>y else y)"
      ],
      "execution_count": null,
      "outputs": [
        {
          "output_type": "stream",
          "name": "stdout",
          "text": [
            "5.32167\n"
          ]
        }
      ]
    },
    {
      "cell_type": "code",
      "metadata": {
        "id": "SowMH0i2R23n",
        "colab": {
          "base_uri": "https://localhost:8080/"
        },
        "outputId": "8146a095-f32b-48b1-a506-c02bda89c474"
      },
      "source": [
        "# Print the minimum value between x and y\n",
        "print(x if x<y else y)"
      ],
      "execution_count": null,
      "outputs": [
        {
          "output_type": "stream",
          "name": "stdout",
          "text": [
            "2\n"
          ]
        }
      ]
    },
    {
      "cell_type": "code",
      "metadata": {
        "id": "sb4rDXEeR23n",
        "colab": {
          "base_uri": "https://localhost:8080/"
        },
        "outputId": "7eab97f4-7147-4e11-aa4c-cfbdb403260f"
      },
      "source": [
        "# Print square and cube of x and store in a and b variable\n",
        "a,b=x**2,x**3\n",
        "print(a)\n",
        "print(b)"
      ],
      "execution_count": null,
      "outputs": [
        {
          "output_type": "stream",
          "name": "stdout",
          "text": [
            "4\n",
            "8\n"
          ]
        }
      ]
    },
    {
      "cell_type": "code",
      "metadata": {
        "id": "Lepz3khdR23p",
        "colab": {
          "base_uri": "https://localhost:8080/"
        },
        "outputId": "f5a9ec7b-e9df-4b30-c8ff-93688f097c75"
      },
      "source": [
        "#print log of x and store it in variable c\n",
        "c=math.log(x)\n",
        "print(c)"
      ],
      "execution_count": null,
      "outputs": [
        {
          "output_type": "stream",
          "name": "stdout",
          "text": [
            "0.6931471805599453\n"
          ]
        }
      ]
    },
    {
      "cell_type": "code",
      "metadata": {
        "id": "qm-WyZA3R23q",
        "colab": {
          "base_uri": "https://localhost:8080/"
        },
        "outputId": "00696d21-dd76-44e7-d331-438f7e0e7dcc"
      },
      "source": [
        "#print minimum value between x,y,a, b and c\n",
        "print(min(x,y,a,b,c))"
      ],
      "execution_count": null,
      "outputs": [
        {
          "output_type": "stream",
          "name": "stdout",
          "text": [
            "0.6931471805599453\n"
          ]
        }
      ]
    },
    {
      "cell_type": "code",
      "metadata": {
        "id": "hhhluhJfR23q",
        "colab": {
          "base_uri": "https://localhost:8080/"
        },
        "outputId": "42698905-50f4-450a-b4da-4e290e250150"
      },
      "source": [
        "#print maximum value between x,y,a, b and c\n",
        "print(max(x,y,a,b,c))"
      ],
      "execution_count": null,
      "outputs": [
        {
          "output_type": "stream",
          "name": "stdout",
          "text": [
            "8\n"
          ]
        }
      ]
    },
    {
      "cell_type": "code",
      "metadata": {
        "id": "96FNp7vTR23r",
        "colab": {
          "base_uri": "https://localhost:8080/"
        },
        "outputId": "15bc2b36-74de-4aae-af28-4d9d4cdc1198"
      },
      "source": [
        "#print the largest integer that is smaller than or equal to c. ie.round down\n",
        "int(math.ceil(c)-1)"
      ],
      "execution_count": null,
      "outputs": [
        {
          "output_type": "execute_result",
          "data": {
            "text/plain": [
              "0"
            ]
          },
          "metadata": {},
          "execution_count": 38
        }
      ]
    },
    {
      "cell_type": "code",
      "metadata": {
        "id": "vMmWOSYvR23s",
        "colab": {
          "base_uri": "https://localhost:8080/"
        },
        "outputId": "696889ce-0a3d-4903-a908-37aa83eec4cb"
      },
      "source": [
        "#print the smallest integer that is greater than or equal to c ie. round up\n",
        "int(math.floor(x)-1)"
      ],
      "execution_count": 5,
      "outputs": [
        {
          "output_type": "execute_result",
          "data": {
            "text/plain": [
              "1"
            ]
          },
          "metadata": {},
          "execution_count": 5
        }
      ]
    },
    {
      "cell_type": "markdown",
      "metadata": {
        "id": "mzWB9wlpR23t"
      },
      "source": [
        "## Logical operations\n",
        "\n",
        "You must be aware of some logical operations you did in college, like 'and', 'or', 'not' etc. These operations becomes even more easy to implement when you have friend like python.\n",
        "\n",
        "Reference:- https://youtu.be/NR1vQ4NoZMc\n",
        "\n",
        "<p style='text-align: right;'> 1 + 1 + 1 + 6 = 9 points </p>\n"
      ]
    },
    {
      "cell_type": "code",
      "metadata": {
        "id": "_UhS7yg5R23u",
        "colab": {
          "base_uri": "https://localhost:8080/"
        },
        "outputId": "084fddf1-b3c2-42a0-c1a7-35f21451a4b1"
      },
      "source": [
        "# declare two variables, a = True, b = False\n",
        "a = True #your code here\n",
        "b = False #your code here\n",
        "print(a)\n",
        "print(b)"
      ],
      "execution_count": 6,
      "outputs": [
        {
          "output_type": "stream",
          "name": "stdout",
          "text": [
            "True\n",
            "False\n"
          ]
        }
      ]
    },
    {
      "cell_type": "code",
      "metadata": {
        "id": "xIyxrEGKR23v",
        "colab": {
          "base_uri": "https://localhost:8080/"
        },
        "outputId": "8609c0e2-f4ac-4085-865d-dabdfaa8908b"
      },
      "source": [
        "# print type of a and type of b\n",
        "type(a)\n",
        "type(b)"
      ],
      "execution_count": 9,
      "outputs": [
        {
          "output_type": "execute_result",
          "data": {
            "text/plain": [
              "bool"
            ]
          },
          "metadata": {},
          "execution_count": 9
        }
      ]
    },
    {
      "cell_type": "markdown",
      "metadata": {
        "id": "Jset5VXBR23w"
      },
      "source": [
        "A fun fact for you !\n",
        "The Python Boolean type is one of Python's built-in data types. It's used to represent the truth value of an expression"
      ]
    },
    {
      "cell_type": "code",
      "metadata": {
        "id": "283hoyhaR23w",
        "colab": {
          "base_uri": "https://localhost:8080/"
        },
        "outputId": "35836a4d-a377-4938-f731-7654fc4962a1"
      },
      "source": [
        "# print int(a) and int(b)\n",
        "print('int of a is ',int(a))\n",
        "print('int of b is ',int(b))"
      ],
      "execution_count": 11,
      "outputs": [
        {
          "output_type": "stream",
          "name": "stdout",
          "text": [
            "int of a is  1\n",
            "int of b is  0\n"
          ]
        }
      ]
    },
    {
      "cell_type": "markdown",
      "metadata": {
        "id": "Je5YLOzzR23x"
      },
      "source": [
        "We are sure you must have seen that, values for 'True' is 1 and for 'False' is 0."
      ]
    },
    {
      "cell_type": "code",
      "metadata": {
        "id": "lDgtBJI2R23x",
        "colab": {
          "base_uri": "https://localhost:8080/"
        },
        "outputId": "5447dedf-7eaf-4f68-a634-035fadb9550e"
      },
      "source": [
        "# Find and print the values of not a, not b, a and b, a or b, a and not b\n",
        "print('not a = ',not a)\n",
        "print('not b = ',not b)\n",
        "print('a and b = ',a and b)\n",
        "print('a or b = ',a or b )\n",
        "print('a and not b = ',a and not b)\n"
      ],
      "execution_count": 14,
      "outputs": [
        {
          "output_type": "stream",
          "name": "stdout",
          "text": [
            "not a =  False\n",
            "not b =  True\n",
            "a and b =  False\n",
            "a or b =  True\n",
            "a and not b =  True\n"
          ]
        }
      ]
    },
    {
      "cell_type": "markdown",
      "metadata": {
        "id": "QgAVGJdrR23y"
      },
      "source": [
        "We hope you tried to undertand the above output! "
      ]
    },
    {
      "cell_type": "markdown",
      "metadata": {
        "id": "BjHseldOR23z"
      },
      "source": [
        "## List Comprehensions\n",
        "\n",
        "Hey buddy! Python has really amazing thing called list comprehension. List comprehension offers a shorter syntax when you want to create a new list based on the values of an existing list. Cool right? Let's dive into this more by doing it. \n",
        "\n",
        "Reference:- https://youtu.be/fLvg4pvlYog\n",
        "\n",
        "<p style='text-align: right;'> 10 + 10 + 10= 30 points </p>\n",
        "\n"
      ]
    },
    {
      "cell_type": "code",
      "metadata": {
        "id": "mFazQI2ZR23z",
        "colab": {
          "base_uri": "https://localhost:8080/"
        },
        "outputId": "98d8c67f-ca37-4051-9033-2e2f85c4f989"
      },
      "source": [
        "# Using list comprehension, create a list containing numbers from 1 to 20. \n",
        "# Hint: You can use range function of python to do this.\n",
        "x=[x for x in range(1,21)]\n",
        "x"
      ],
      "execution_count": 18,
      "outputs": [
        {
          "output_type": "execute_result",
          "data": {
            "text/plain": [
              "[1, 2, 3, 4, 5, 6, 7, 8, 9, 10, 11, 12, 13, 14, 15, 16, 17, 18, 19, 20]"
            ]
          },
          "metadata": {},
          "execution_count": 18
        }
      ]
    },
    {
      "cell_type": "code",
      "metadata": {
        "id": "vzjRbzFeR230",
        "colab": {
          "base_uri": "https://localhost:8080/"
        },
        "outputId": "34d966de-136e-46f0-9a37-67f9483b162a"
      },
      "source": [
        "# Using list comprehension, create a list containing numbers from 1 to 20 that are even\n",
        "x=[x for x in range(1,21) if x%2==0 ]\n",
        "x"
      ],
      "execution_count": 23,
      "outputs": [
        {
          "output_type": "execute_result",
          "data": {
            "text/plain": [
              "[2, 4, 6, 8, 10, 12, 14, 16, 18, 20]"
            ]
          },
          "metadata": {},
          "execution_count": 23
        }
      ]
    },
    {
      "cell_type": "markdown",
      "metadata": {
        "id": "qNhZFACcR230"
      },
      "source": [
        "Create a list of all the fruits you like. Using list comprehension, create another list which contains the total number of charachters for each corresponding fruits.\n",
        "- Eg. fruits = [‘apple’,’kiwi’,’orange’], then output would be - [5,4,6]\n"
      ]
    },
    {
      "cell_type": "code",
      "metadata": {
        "id": "8iAO5P6jR231",
        "colab": {
          "base_uri": "https://localhost:8080/"
        },
        "outputId": "73adf2c7-7b44-4674-c23c-b5bc40184e04"
      },
      "source": [
        "fruits =['apple','guava','orange','musk melon','water melon'] # your code here (create a list of your favourite fruits)\n",
        "len_fruits = [len(x) for x in fruits] # your code here\n",
        "\n",
        "print(fruits)\n",
        "print(len_fruits)"
      ],
      "execution_count": 27,
      "outputs": [
        {
          "output_type": "stream",
          "name": "stdout",
          "text": [
            "['apple', 'guava', 'orange', 'musk melon', 'water melon']\n",
            "[5, 5, 6, 10, 11]\n"
          ]
        }
      ]
    },
    {
      "cell_type": "markdown",
      "metadata": {
        "id": "6gpeueC8R232"
      },
      "source": [
        "The above output is shown if fruits = ['apple','kiwi,'orange'], it can vary for different values of fruits\n",
        "\n",
        "Amazing right?\n"
      ]
    },
    {
      "cell_type": "markdown",
      "metadata": {
        "id": "NZ03DFlQR232"
      },
      "source": [
        "## String value and operators\n",
        "\n",
        "<p style='text-align: right;'> 1 + 1 + 1 + 1 + 1 = 5 points </p>\n"
      ]
    },
    {
      "cell_type": "markdown",
      "metadata": {
        "id": "i2C8_rR2R232"
      },
      "source": [
        "### Characters in strings\n",
        "\n",
        "\n",
        "Reference:- https://www.programiz.com/python-programming/string\n",
        "\n",
        "Reference:-  https://youtu.be/ys3qbgT83nQ\n"
      ]
    },
    {
      "cell_type": "code",
      "metadata": {
        "id": "ttWrWIt4R233",
        "colab": {
          "base_uri": "https://localhost:8080/"
        },
        "outputId": "7adce044-6032-499c-fc12-0899e3a43f23"
      },
      "source": [
        "# declare the variables x = cat and y = dog and print it\n",
        "x =  'cat' #your code here\n",
        "y = 'dog' #your code here\n",
        "\n",
        "print(x)\n",
        "print(y)"
      ],
      "execution_count": 28,
      "outputs": [
        {
          "output_type": "stream",
          "name": "stdout",
          "text": [
            "cat\n",
            "dog\n"
          ]
        }
      ]
    },
    {
      "cell_type": "code",
      "metadata": {
        "id": "_U8sjY88R234",
        "colab": {
          "base_uri": "https://localhost:8080/"
        },
        "outputId": "ade95982-5f8c-4e31-df5f-2eb302ee0cb2"
      },
      "source": [
        "#Print first character of both x and y. \n",
        "print('First ch of x = ',x[0])\n",
        "print('First ch of y = ',y[0])"
      ],
      "execution_count": 29,
      "outputs": [
        {
          "output_type": "stream",
          "name": "stdout",
          "text": [
            "First ch of x =  c\n",
            "First ch of y =  d\n"
          ]
        }
      ]
    },
    {
      "cell_type": "code",
      "metadata": {
        "id": "Q3hg8YfkR234",
        "colab": {
          "base_uri": "https://localhost:8080/"
        },
        "outputId": "2caf3897-0b28-4ab6-cc45-df9826fe19a3"
      },
      "source": [
        "#Print last character of both x and y.\n",
        "print('Last ch of x = ',x[len(x)-1])\n",
        "print('Last ch of y = ',y[len(y)-1])"
      ],
      "execution_count": 31,
      "outputs": [
        {
          "output_type": "stream",
          "name": "stdout",
          "text": [
            "Last ch of x =  t\n",
            "Last ch of y =  g\n"
          ]
        }
      ]
    },
    {
      "cell_type": "code",
      "metadata": {
        "id": "xe0Hfj-kR235",
        "colab": {
          "base_uri": "https://localhost:8080/"
        },
        "outputId": "a0e52542-eaa3-4b2b-d3bf-3f1db3daa881"
      },
      "source": [
        "#Print len of both x and y\n",
        "print('Length of x is ',len(x))\n",
        "print('Length of y is ',len(y))"
      ],
      "execution_count": 33,
      "outputs": [
        {
          "output_type": "stream",
          "name": "stdout",
          "text": [
            "Length of x is  3\n",
            "Length of y is  3\n"
          ]
        }
      ]
    },
    {
      "cell_type": "code",
      "metadata": {
        "id": "ozDvb4imR235",
        "colab": {
          "base_uri": "https://localhost:8080/"
        },
        "outputId": "d29bb5d4-9580-44e8-d7f9-fa2a53ed05d0"
      },
      "source": [
        "#concatenate both x and y and store it in variable z and print z\n",
        "z=x+y\n",
        "print(z)"
      ],
      "execution_count": 35,
      "outputs": [
        {
          "output_type": "stream",
          "name": "stdout",
          "text": [
            "catdog\n"
          ]
        }
      ]
    },
    {
      "cell_type": "code",
      "metadata": {
        "id": "2zcjvtFlR236",
        "colab": {
          "base_uri": "https://localhost:8080/"
        },
        "outputId": "034a84fe-6894-4fde-e617-1b3622e29e6c"
      },
      "source": [
        "#check if x is part of z \n",
        "print(x in z)"
      ],
      "execution_count": 36,
      "outputs": [
        {
          "output_type": "stream",
          "name": "stdout",
          "text": [
            "True\n"
          ]
        }
      ]
    },
    {
      "cell_type": "markdown",
      "metadata": {
        "id": "PjgHtTbSR236"
      },
      "source": [
        "### String slicing\n",
        "\n",
        "\n",
        "\n",
        "Hey coder, do you know? Python slicing is about obtaining a sub-string from the given string by slicing it respectively from start to end\n",
        "\n",
        "So be ready to implement it today!\n",
        "<p style='text-align: right;'> 2 points </p>"
      ]
    },
    {
      "cell_type": "code",
      "metadata": {
        "id": "3KRgn2DyR237",
        "colab": {
          "base_uri": "https://localhost:8080/"
        },
        "outputId": "049d1348-1335-4a8b-be59-4b0af4ec152e"
      },
      "source": [
        "#Create variable a = “pineapple”\n",
        "a = 'pineapple' # your code here\n",
        "print(a)"
      ],
      "execution_count": 37,
      "outputs": [
        {
          "output_type": "stream",
          "name": "stdout",
          "text": [
            "pineapple\n"
          ]
        }
      ]
    },
    {
      "cell_type": "code",
      "metadata": {
        "id": "_SWB5BeOR237",
        "colab": {
          "base_uri": "https://localhost:8080/"
        },
        "outputId": "a469bce4-5eab-41d7-a962-d1dad06b2b8f"
      },
      "source": [
        "# Using index slicing, print the words ‘pine’ and “apple”.\n",
        "# HINT - a[:]\n",
        "print(a[0:4]+'\\n'+a[4:])\n"
      ],
      "execution_count": 39,
      "outputs": [
        {
          "output_type": "stream",
          "name": "stdout",
          "text": [
            "pine\n",
            "apple\n"
          ]
        }
      ]
    },
    {
      "cell_type": "code",
      "metadata": {
        "id": "LCGZyK_KR238",
        "colab": {
          "base_uri": "https://localhost:8080/",
          "height": 36
        },
        "outputId": "84fa0b65-28c1-4cc6-d8fe-72cb38d6d5af"
      },
      "source": [
        "#Convert a into upper case\n",
        "a.upper()"
      ],
      "execution_count": 40,
      "outputs": [
        {
          "output_type": "execute_result",
          "data": {
            "application/vnd.google.colaboratory.intrinsic+json": {
              "type": "string"
            },
            "text/plain": [
              "'PINEAPPLE'"
            ]
          },
          "metadata": {},
          "execution_count": 40
        }
      ]
    },
    {
      "cell_type": "markdown",
      "metadata": {
        "id": "AIurAeY2R238"
      },
      "source": [
        "## Dealing with Sentences\n",
        "\n",
        "<p style='text-align: right;'> 1+1+1+1+1+1 = 6 points </p>\n"
      ]
    },
    {
      "cell_type": "code",
      "metadata": {
        "id": "2Ey5_mXMR238",
        "colab": {
          "base_uri": "https://localhost:8080/",
          "height": 36
        },
        "outputId": "23c6e861-5c81-48c4-cc20-251b9edc8d5a"
      },
      "source": [
        "# Declare a sentence of ‘I am flying to London’ and print it\n",
        "sentence='I am flying to London'\n",
        "sentence"
      ],
      "execution_count": 76,
      "outputs": [
        {
          "output_type": "execute_result",
          "data": {
            "application/vnd.google.colaboratory.intrinsic+json": {
              "type": "string"
            },
            "text/plain": [
              "'I am flying to London'"
            ]
          },
          "metadata": {},
          "execution_count": 76
        }
      ]
    },
    {
      "cell_type": "code",
      "metadata": {
        "id": "Ti9yzDo6R239",
        "colab": {
          "base_uri": "https://localhost:8080/"
        },
        "outputId": "0df1da9c-c8a2-4678-926d-fa7cd7b1a262"
      },
      "source": [
        "#Print length of the sentence\n",
        "print('Len of sentence is ',len(sentence))"
      ],
      "execution_count": 43,
      "outputs": [
        {
          "output_type": "stream",
          "name": "stdout",
          "text": [
            "Len of sentence is  21\n"
          ]
        }
      ]
    },
    {
      "cell_type": "code",
      "metadata": {
        "id": "0hkaAA3SR239",
        "colab": {
          "base_uri": "https://localhost:8080/",
          "height": 36
        },
        "outputId": "bb450b59-4774-49fd-b474-0e25e2c5c504"
      },
      "source": [
        "#Using list indexing, to print the word London\n",
        "sentence[15:]"
      ],
      "execution_count": 77,
      "outputs": [
        {
          "output_type": "execute_result",
          "data": {
            "application/vnd.google.colaboratory.intrinsic+json": {
              "type": "string"
            },
            "text/plain": [
              "'London'"
            ]
          },
          "metadata": {},
          "execution_count": 77
        }
      ]
    },
    {
      "cell_type": "code",
      "metadata": {
        "id": "yeiZCQWyR23-",
        "colab": {
          "base_uri": "https://localhost:8080/"
        },
        "outputId": "7f30d787-8b58-4d0c-987b-696629fd215b"
      },
      "source": [
        "# Use .split to get list of individual words in the sentence\n",
        "sentence.split()"
      ],
      "execution_count": 73,
      "outputs": [
        {
          "output_type": "execute_result",
          "data": {
            "text/plain": [
              "['I', 'am', 'flying', 'to', 'London']"
            ]
          },
          "metadata": {},
          "execution_count": 73
        }
      ]
    },
    {
      "cell_type": "code",
      "metadata": {
        "id": "KpQV7KCXR23_",
        "colab": {
          "base_uri": "https://localhost:8080/",
          "height": 36
        },
        "outputId": "ff456d82-c269-4c7f-b0d0-2ecedd7007cc"
      },
      "source": [
        "# Convert sentence in lower case \n",
        "sentence.lower()"
      ],
      "execution_count": 74,
      "outputs": [
        {
          "output_type": "execute_result",
          "data": {
            "application/vnd.google.colaboratory.intrinsic+json": {
              "type": "string"
            },
            "text/plain": [
              "'i am flying to london'"
            ]
          },
          "metadata": {},
          "execution_count": 74
        }
      ]
    },
    {
      "cell_type": "code",
      "metadata": {
        "id": "qAUWfYhwR23_",
        "colab": {
          "base_uri": "https://localhost:8080/",
          "height": 36
        },
        "outputId": "10394f46-a56e-418f-9413-ec9b884f499a"
      },
      "source": [
        "# Convert sentence in upper case .\n",
        "sentence.upper()"
      ],
      "execution_count": 75,
      "outputs": [
        {
          "output_type": "execute_result",
          "data": {
            "application/vnd.google.colaboratory.intrinsic+json": {
              "type": "string"
            },
            "text/plain": [
              "'I AM FLYING TO LONDON'"
            ]
          },
          "metadata": {},
          "execution_count": 75
        }
      ]
    },
    {
      "cell_type": "markdown",
      "metadata": {
        "id": "5erJTerMR24A"
      },
      "source": [
        "Great job! Slicing is fun."
      ]
    },
    {
      "cell_type": "markdown",
      "metadata": {
        "id": "lTW6LgZLR24A"
      },
      "source": [
        "## Functions\n",
        "\n",
        "Declare a function named square, which takes an input as x, and returns the square of x.\n",
        "\n",
        "Reference:- https://youtu.be/srqkQBdQhO8\n",
        "\n",
        "<p style='text-align: right;'> 5 + 3 = 8 points </p>\n"
      ]
    },
    {
      "cell_type": "code",
      "metadata": {
        "id": "AB95KjpKR24A"
      },
      "source": [
        "def square(x):\n",
        "    '''\n",
        "        add your code\n",
        "    '''\n",
        "    return x**2\n",
        "    "
      ],
      "execution_count": 80,
      "outputs": []
    },
    {
      "cell_type": "markdown",
      "metadata": {
        "id": "xf8abfEZR24B"
      },
      "source": [
        "Call the function to find the value of square of 9."
      ]
    },
    {
      "cell_type": "code",
      "metadata": {
        "id": "gDdPrYRWR24B",
        "colab": {
          "base_uri": "https://localhost:8080/"
        },
        "outputId": "7ce43abe-e02a-43cd-a1f0-0c00ecbcc57b"
      },
      "source": [
        "# find the square of 9 using the function square you have just created.\n",
        "print('square of 9 is ',square(9))"
      ],
      "execution_count": 81,
      "outputs": [
        {
          "output_type": "stream",
          "name": "stdout",
          "text": [
            "square of 9 is  81\n"
          ]
        }
      ]
    },
    {
      "cell_type": "markdown",
      "metadata": {
        "id": "lthrpAquR24C"
      },
      "source": [
        "Wohoo! see, defining function was simple"
      ]
    },
    {
      "cell_type": "markdown",
      "metadata": {
        "id": "BSrG723AR24C"
      },
      "source": [
        "#### Define another function which checks whether a given is number is odd or even for a given input and it should print whether the  number is odd or even as an output\n",
        "<p style='text-align: right;'> 5 + 3 = 8 points </p>\n"
      ]
    },
    {
      "cell_type": "code",
      "metadata": {
        "id": "VkAoVT4MR24C"
      },
      "source": [
        "# your code here\n",
        "def checkipforEvenOdd(x):\n",
        "  if x%2==0:\n",
        "    print(x,' is even')\n",
        "  else:\n",
        "    print(x,' is odd')\n",
        "\n",
        "\n",
        "def checkopforEvenOdd(x):\n",
        "  if square(x)%2==0:\n",
        "    print(square(x),' is even')\n",
        "  else:\n",
        "    print(square(x),' is odd')\n"
      ],
      "execution_count": 84,
      "outputs": []
    },
    {
      "cell_type": "markdown",
      "metadata": {
        "id": "ykkjIyxsR24C"
      },
      "source": [
        "Hey smarty! lets use both the functions together to check whether the square of 3,6 and 21 are odd or even.\n"
      ]
    },
    {
      "cell_type": "code",
      "metadata": {
        "id": "PcXx_xucR24D",
        "colab": {
          "base_uri": "https://localhost:8080/"
        },
        "outputId": "3609423d-b1ea-47fb-f22b-89bafd5b7c81"
      },
      "source": [
        " # your code here\n",
        "checkipforEvenOdd(9)\n",
        "checkopforEvenOdd(6)\n",
        "checkopforEvenOdd(21)"
      ],
      "execution_count": 85,
      "outputs": [
        {
          "output_type": "stream",
          "name": "stdout",
          "text": [
            "9  is odd\n",
            "36  is even\n",
            "441  is odd\n"
          ]
        }
      ]
    },
    {
      "cell_type": "markdown",
      "metadata": {
        "id": "1I0PP28dR24D"
      },
      "source": [
        "hey hey! You did a great code. Did you see the benefit of using functions"
      ]
    },
    {
      "cell_type": "markdown",
      "metadata": {
        "id": "JQiPzCzlR24D"
      },
      "source": [
        "# Loops and Iterations\n",
        "Reference:- https://youtu.be/qxcnELw5OZE"
      ]
    },
    {
      "cell_type": "markdown",
      "metadata": {
        "id": "UYq43t2qR24E"
      },
      "source": [
        "## If statement\n",
        "\n",
        "<p style='text-align: right;'> 1 + 2 + 3 = 6 points </p>\n"
      ]
    },
    {
      "cell_type": "code",
      "metadata": {
        "id": "KTV8IbWfR24E",
        "colab": {
          "base_uri": "https://localhost:8080/"
        },
        "outputId": "7beb4737-48fe-46cf-a4b4-46badaa190cc"
      },
      "source": [
        "#Declare a variable x equal to a number of your choice.\n",
        "#your code here\n",
        "x =  5 # add a number of your choice (mine is 3 :) )\n",
        "print(x)"
      ],
      "execution_count": 2,
      "outputs": [
        {
          "output_type": "stream",
          "name": "stdout",
          "text": [
            "5\n"
          ]
        }
      ]
    },
    {
      "cell_type": "code",
      "metadata": {
        "id": "HvKsKxsqR24F",
        "colab": {
          "base_uri": "https://localhost:8080/"
        },
        "outputId": "7cf9960f-359d-4a45-9f2d-b942cd0fbccd"
      },
      "source": [
        "#Using an if statement, print whether x is zero, positive or negative.\n",
        "if x!=0 and x>0:\n",
        "  print(x,' is positive')\n",
        "elif x!=0 and x<0:\n",
        "  print(x,' is negative')\n",
        "else:\n",
        "  print(x,' is zero')"
      ],
      "execution_count": 3,
      "outputs": [
        {
          "output_type": "stream",
          "name": "stdout",
          "text": [
            "5  is positive\n"
          ]
        }
      ]
    },
    {
      "cell_type": "code",
      "metadata": {
        "id": "k_4tVLBSR24F",
        "colab": {
          "base_uri": "https://localhost:8080/"
        },
        "outputId": "a1a89bff-10f5-481f-fd51-09c61f787348"
      },
      "source": [
        "# Now Define a function, which takes input from the user and prints whether the given input is zero,positive or negative.\n",
        "def check_num(inputNumber):\n",
        "  if inputNumber!=0 and inputNumber>0:\n",
        "    print(inputNumber,' is positive')\n",
        "  elif inputNumber!=0 and inputNumber<0:\n",
        "    print(inputNumber,' is negative')\n",
        "  else:\n",
        "    print(inputNumber,' is zero')\n",
        "\n",
        "\n",
        "check_num(10)\n",
        "check_num(-2)\n",
        "check_num(0)"
      ],
      "execution_count": 4,
      "outputs": [
        {
          "output_type": "stream",
          "name": "stdout",
          "text": [
            "10  is positive\n",
            "-2  is negative\n",
            "0  is zero\n"
          ]
        }
      ]
    },
    {
      "cell_type": "markdown",
      "metadata": {
        "id": "y6vDG369R24F"
      },
      "source": [
        "## For loop"
      ]
    },
    {
      "cell_type": "markdown",
      "metadata": {
        "id": "g6xmIerkR24G"
      },
      "source": [
        "<p style='text-align: right;'> 2 points </p>\n"
      ]
    },
    {
      "cell_type": "code",
      "metadata": {
        "id": "xfUyLXs0R24G",
        "colab": {
          "base_uri": "https://localhost:8080/"
        },
        "outputId": "ee9ea5c8-b7b1-49c4-8328-94ecce7ac75f"
      },
      "source": [
        "#Create a list x, such that it contains the elements - ‘India’, ‘Israel’,’Canada’.\n",
        "x = ['India', 'Israel', 'Canada']\n",
        "x"
      ],
      "execution_count": 6,
      "outputs": [
        {
          "output_type": "execute_result",
          "data": {
            "text/plain": [
              "['India', 'Israel', 'Canada']"
            ]
          },
          "metadata": {},
          "execution_count": 6
        }
      ]
    },
    {
      "cell_type": "code",
      "metadata": {
        "id": "x5Hk9XRTR24G",
        "colab": {
          "base_uri": "https://localhost:8080/"
        },
        "outputId": "fe5c8cdf-1818-4a9c-bf64-c664a196a708"
      },
      "source": [
        "#Using For loop, iterate over the list and print the elements.\n",
        "for element in x:\n",
        "  print(element)"
      ],
      "execution_count": 7,
      "outputs": [
        {
          "output_type": "stream",
          "name": "stdout",
          "text": [
            "India\n",
            "Israel\n",
            "Canada\n"
          ]
        }
      ]
    },
    {
      "cell_type": "markdown",
      "metadata": {
        "id": "L9ofy3RBR24H"
      },
      "source": [
        "<p style='text-align: right;'> 2 points </p>\n"
      ]
    },
    {
      "cell_type": "code",
      "metadata": {
        "id": "qTgKh1kIR24H",
        "colab": {
          "base_uri": "https://localhost:8080/"
        },
        "outputId": "18cefd75-5dfd-4fea-b468-db8123c8d35d"
      },
      "source": [
        "# Using For loop, print the table of 2.\n",
        "for i in range(1,11):\n",
        "  print('2 * ',i,' = ',2*i)"
      ],
      "execution_count": 10,
      "outputs": [
        {
          "output_type": "stream",
          "name": "stdout",
          "text": [
            "2 *  1  =  2\n",
            "2 *  2  =  4\n",
            "2 *  3  =  6\n",
            "2 *  4  =  8\n",
            "2 *  5  =  10\n",
            "2 *  6  =  12\n",
            "2 *  7  =  14\n",
            "2 *  8  =  16\n",
            "2 *  9  =  18\n",
            "2 *  10  =  20\n"
          ]
        }
      ]
    },
    {
      "cell_type": "markdown",
      "metadata": {
        "id": "wM2hopR1R24I"
      },
      "source": [
        "For a given list, x = [21, ‘hello,’cream’, 20,19,’village’], using for loop to iterate over the items and using - if statement print the items that are of type int"
      ]
    },
    {
      "cell_type": "code",
      "metadata": {
        "id": "IKzk1y39R24I",
        "colab": {
          "base_uri": "https://localhost:8080/"
        },
        "outputId": "a21175c7-7cd0-4756-8d02-34233f29c423"
      },
      "source": [
        "#code here\n",
        "x = [21, 'hello','cream', 20,19,'village']\n",
        "\n",
        "result=[element for element in x if type(element)==int]\n",
        "result"
      ],
      "execution_count": 17,
      "outputs": [
        {
          "output_type": "execute_result",
          "data": {
            "text/plain": [
              "[21, 20, 19]"
            ]
          },
          "metadata": {},
          "execution_count": 17
        }
      ]
    },
    {
      "cell_type": "markdown",
      "metadata": {
        "id": "jQsqwPVnR24I"
      },
      "source": [
        "Using For loop, lets create a pattern. "
      ]
    },
    {
      "cell_type": "markdown",
      "metadata": {
        "id": "UHkhrabwR24J"
      },
      "source": [
        "<p style='text-align: right;'> 10 points </p>\n"
      ]
    },
    {
      "cell_type": "code",
      "metadata": {
        "id": "s8jG4sMAR24J",
        "colab": {
          "base_uri": "https://localhost:8080/"
        },
        "outputId": "471334aa-68c2-4113-e45c-6889dac58548"
      },
      "source": [
        "# print the following pattern\n",
        "result='*'\n",
        "for i in range(5):\n",
        "  print(result)\n",
        "  result+=' *'"
      ],
      "execution_count": 27,
      "outputs": [
        {
          "output_type": "stream",
          "name": "stdout",
          "text": [
            "*\n",
            "* *\n",
            "* * *\n",
            "* * * *\n",
            "* * * * *\n"
          ]
        }
      ]
    },
    {
      "cell_type": "markdown",
      "metadata": {
        "id": "rreXMUZGR24K"
      },
      "source": [
        "## While loop"
      ]
    },
    {
      "cell_type": "markdown",
      "metadata": {
        "id": "U-vvGz4gR24K"
      },
      "source": [
        "- Using while loop make a function that prints all the values between 1 to n. "
      ]
    },
    {
      "cell_type": "markdown",
      "metadata": {
        "id": "qQfpCKtER24K"
      },
      "source": [
        "<p style='text-align: right;'> 10 points </p>\n"
      ]
    },
    {
      "cell_type": "code",
      "metadata": {
        "id": "WANnKj5bR24L"
      },
      "source": [
        "def counter(n):\n",
        " # add your code here\n",
        " for i in range(1,n):\n",
        "   print(i)\n",
        "    "
      ],
      "execution_count": 30,
      "outputs": []
    },
    {
      "cell_type": "code",
      "metadata": {
        "id": "jF5IB5GFR24L",
        "colab": {
          "base_uri": "https://localhost:8080/"
        },
        "outputId": "6eaa93d4-7cb6-4bdd-f5e6-83b2c9409553"
      },
      "source": [
        "counter(10) #this should print numbers from 1 to 10"
      ],
      "execution_count": 31,
      "outputs": [
        {
          "output_type": "stream",
          "name": "stdout",
          "text": [
            "1\n",
            "2\n",
            "3\n",
            "4\n",
            "5\n",
            "6\n",
            "7\n",
            "8\n",
            "9\n"
          ]
        }
      ]
    },
    {
      "cell_type": "markdown",
      "metadata": {
        "id": "GvpBySx5R24L"
      },
      "source": [
        "### Write the code for the following, what is the output obtained?\n",
        "- Set a variable flag = True, num = 5\n",
        "- Run a while loop till flag = True\n",
        "- Inside the while loop - \n",
        "    - Increment the value of num by 5\n",
        "    - If value of num is greater then 50, set flag to be False"
      ]
    },
    {
      "cell_type": "code",
      "metadata": {
        "id": "m7iI5NbfR24M",
        "colab": {
          "base_uri": "https://localhost:8080/"
        },
        "outputId": "a038de28-ae83-4891-88d7-8f33265bfe5a"
      },
      "source": [
        "# your code here\n",
        "\n",
        "flag = True\n",
        "num = 5\n",
        "\n",
        "while(flag):\n",
        "  print(num)\n",
        "  num+=5\n",
        "\n",
        "  if num>50:\n",
        "    flag=False\n",
        "  "
      ],
      "execution_count": 35,
      "outputs": [
        {
          "output_type": "stream",
          "name": "stdout",
          "text": [
            "5\n",
            "10\n",
            "15\n",
            "20\n",
            "25\n",
            "30\n",
            "35\n",
            "40\n",
            "45\n",
            "50\n"
          ]
        }
      ]
    },
    {
      "cell_type": "markdown",
      "metadata": {
        "id": "k5WAnCayR24M"
      },
      "source": [
        "Awsesome! Great job so far. Hope you fell in love with python now."
      ]
    },
    {
      "cell_type": "markdown",
      "metadata": {
        "id": "2qDRt0ZNR24M"
      },
      "source": [
        "----------------------------------------------------------------------"
      ]
    },
    {
      "cell_type": "markdown",
      "metadata": {
        "id": "0oV7KzMgR24N"
      },
      "source": [
        "# Smile, you completed the first milestone :)!! "
      ]
    },
    {
      "cell_type": "markdown",
      "metadata": {
        "id": "ofPjqk95R24N"
      },
      "source": [
        "# Its Feedback Time!\n",
        "\n",
        "We hope you’ve enjoyed this course so far. We’re committed to help you use \"AI for All\" course to its full potential, so that you have a great learning experience. And that’s why we need your help in form of a feedback here.\n",
        "\n",
        "**Please fill this feedback form**\n",
        " https://zfrmz.in/MtRG5oWXBdesm6rmSM7N\n",
        " \n",
        "-------------------------------------\n",
        " "
      ]
    }
  ]
}